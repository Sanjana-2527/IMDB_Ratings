{
 "cells": [
  {
   "cell_type": "code",
   "execution_count": 2,
   "id": "cdb70b66",
   "metadata": {},
   "outputs": [
    {
     "name": "stdout",
     "output_type": "stream",
     "text": [
      "Enter Movie Name: roy\n",
      "Roy 2976182\n",
      "Roy 13353272\n",
      "Roy 1319688\n",
      "Casino Royale 0381061\n",
      "The Royal Tenenbaums 0265666\n",
      "Keeping Up Appearances 0098837\n",
      "Grace 11639300\n",
      "Anne of Green Gables 0088727\n",
      "The Royal Treatment 13989030\n",
      "Shyam Singha Roy 13349716\n",
      "Mother/Android 13029044\n",
      "Troy 0332452\n",
      "Moonfall 5834426\n",
      "Rob Roy 0114287\n",
      "Asteroid City 14230388\n",
      "The Royal 0313122\n",
      "The Lord of the Rings: The Return of the King 0167260\n",
      "The King 7984766\n",
      "Memento 0209144\n",
      "Bad Times at the El Royale 6628394\n",
      "Enter the code: 6628394\n",
      "Rating is: 7.1\n"
     ]
    }
   ],
   "source": [
    "# importing imdb module\n",
    "import imdb\n",
    "\n",
    "#Creating instance of IMDb\n",
    "ia = imdb.IMDb()\n",
    "\n",
    "# Input the movie name\n",
    "Name = input(\"Enter Movie Name: \")\n",
    "\n",
    "search = ia.search_movie(Name)\n",
    "\n",
    "\n",
    "    #prinitng all relevant movies\n",
    "for movie in search:\n",
    "    print(movie, movie.movieID)\n",
    "\n",
    "    # getting code from user\n",
    "Code = input(\"Enter the code: \")\n",
    "\n",
    "search = ia.get_movie(Code)\n",
    "\n",
    "    # printing the rating\n",
    "print(\"Rating is: {}\".format(search.data['rating']))"
   ]
  },
  {
   "cell_type": "code",
   "execution_count": null,
   "id": "cdd0a722",
   "metadata": {},
   "outputs": [],
   "source": []
  }
 ],
 "metadata": {
  "kernelspec": {
   "display_name": "Python 3",
   "language": "python",
   "name": "python3"
  },
  "language_info": {
   "codemirror_mode": {
    "name": "ipython",
    "version": 3
   },
   "file_extension": ".py",
   "mimetype": "text/x-python",
   "name": "python",
   "nbconvert_exporter": "python",
   "pygments_lexer": "ipython3",
   "version": "3.9.5"
  }
 },
 "nbformat": 4,
 "nbformat_minor": 5
}
